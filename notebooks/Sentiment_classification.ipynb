{
 "cells": [
  {
   "cell_type": "code",
   "execution_count": 1,
   "id": "5186e8a0",
   "metadata": {},
   "outputs": [],
   "source": [
    "import pandas as pd\n",
    "import numpy as np\n",
    "from sklearn.model_selection import train_test_split\n",
    "from sklearn.feature_extraction.text import CountVectorizer\n",
    "from sklearn.feature_extraction.text import TfidfTransformer\n",
    "from sklearn.pipeline import Pipeline\n",
    "from sklearn.naive_bayes import MultinomialNB\n",
    "from sklearn.linear_model import SGDClassifier\n",
    "from sklearn import metrics\n",
    "from sklearn.model_selection import GridSearchCV\n",
    "from sklearn.metrics import confusion_matrix\n",
    "from sklearn.metrics import classification_report"
   ]
  },
  {
   "cell_type": "code",
   "execution_count": 2,
   "id": "6c937996",
   "metadata": {},
   "outputs": [],
   "source": [
    "data = pd.read_csv('/Users/mehradghassemi/sentiment_classification/data/raw/reviews_res.csv', delimiter='\\t')"
   ]
  },
  {
   "cell_type": "code",
   "execution_count": 3,
   "id": "8b5a1c69",
   "metadata": {},
   "outputs": [
    {
     "data": {
      "text/html": [
       "<div>\n",
       "<style scoped>\n",
       "    .dataframe tbody tr th:only-of-type {\n",
       "        vertical-align: middle;\n",
       "    }\n",
       "\n",
       "    .dataframe tbody tr th {\n",
       "        vertical-align: top;\n",
       "    }\n",
       "\n",
       "    .dataframe thead th {\n",
       "        text-align: right;\n",
       "    }\n",
       "</style>\n",
       "<table border=\"1\" class=\"dataframe\">\n",
       "  <thead>\n",
       "    <tr style=\"text-align: right;\">\n",
       "      <th></th>\n",
       "      <th>Name</th>\n",
       "      <th>RatingValue</th>\n",
       "      <th>DatePublished</th>\n",
       "      <th>Review</th>\n",
       "    </tr>\n",
       "  </thead>\n",
       "  <tbody>\n",
       "    <tr>\n",
       "      <th>0</th>\n",
       "      <td>Playa Cabana</td>\n",
       "      <td>4</td>\n",
       "      <td>2020-02-26</td>\n",
       "      <td>I was tasked with finding a spot for a group d...</td>\n",
       "    </tr>\n",
       "    <tr>\n",
       "      <th>1</th>\n",
       "      <td>Playa Cabana</td>\n",
       "      <td>3</td>\n",
       "      <td>2019-08-04</td>\n",
       "      <td>Went here with my friends and family. I liked ...</td>\n",
       "    </tr>\n",
       "    <tr>\n",
       "      <th>2</th>\n",
       "      <td>Playa Cabana</td>\n",
       "      <td>3</td>\n",
       "      <td>2019-08-24</td>\n",
       "      <td>Surprisingly good Flautas! They came as 3 roll...</td>\n",
       "    </tr>\n",
       "    <tr>\n",
       "      <th>3</th>\n",
       "      <td>Playa Cabana</td>\n",
       "      <td>4</td>\n",
       "      <td>2019-06-06</td>\n",
       "      <td>As a Mexican I always crave authentic Mexican ...</td>\n",
       "    </tr>\n",
       "    <tr>\n",
       "      <th>4</th>\n",
       "      <td>Playa Cabana</td>\n",
       "      <td>5</td>\n",
       "      <td>2020-05-25</td>\n",
       "      <td>Best tacos I've ever had. Both locations are g...</td>\n",
       "    </tr>\n",
       "  </tbody>\n",
       "</table>\n",
       "</div>"
      ],
      "text/plain": [
       "           Name  RatingValue DatePublished  \\\n",
       "0  Playa Cabana            4    2020-02-26   \n",
       "1  Playa Cabana            3    2019-08-04   \n",
       "2  Playa Cabana            3    2019-08-24   \n",
       "3  Playa Cabana            4    2019-06-06   \n",
       "4  Playa Cabana            5    2020-05-25   \n",
       "\n",
       "                                              Review  \n",
       "0  I was tasked with finding a spot for a group d...  \n",
       "1  Went here with my friends and family. I liked ...  \n",
       "2  Surprisingly good Flautas! They came as 3 roll...  \n",
       "3  As a Mexican I always crave authentic Mexican ...  \n",
       "4  Best tacos I've ever had. Both locations are g...  "
      ]
     },
     "execution_count": 3,
     "metadata": {},
     "output_type": "execute_result"
    }
   ],
   "source": [
    "data.head()"
   ]
  },
  {
   "cell_type": "code",
   "execution_count": 4,
   "id": "bf79db29",
   "metadata": {},
   "outputs": [],
   "source": [
    "def rating_to_sentiment(RatingValue):\n",
    "    if RatingValue in [1, 2]:\n",
    "        return 0\n",
    "    elif RatingValue == 3:\n",
    "        return 1\n",
    "    elif RatingValue in [4, 5]:\n",
    "        return 2"
   ]
  },
  {
   "cell_type": "code",
   "execution_count": 5,
   "id": "fceb9ff9",
   "metadata": {},
   "outputs": [],
   "source": [
    "data['sentiment'] = data['RatingValue'].apply(rating_to_sentiment)"
   ]
  },
  {
   "cell_type": "code",
   "execution_count": 6,
   "id": "69fb80bb",
   "metadata": {},
   "outputs": [],
   "source": [
    "data = data.drop(['RatingValue', 'Name', 'DatePublished'], axis=1)"
   ]
  },
  {
   "cell_type": "code",
   "execution_count": 7,
   "id": "0393cf5d",
   "metadata": {},
   "outputs": [],
   "source": [
    "sentiment_counts = data['sentiment'].value_counts()"
   ]
  },
  {
   "cell_type": "code",
   "execution_count": 8,
   "id": "2e27495f",
   "metadata": {},
   "outputs": [],
   "source": [
    "extra_data = data[data.sentiment == 2].sample(n=1165)\n",
    "data_new = data.drop(extra_data.index)"
   ]
  },
  {
   "cell_type": "code",
   "execution_count": 9,
   "id": "1807cfd9",
   "metadata": {},
   "outputs": [],
   "source": [
    "sentiment_counts = data_new['sentiment'].value_counts()"
   ]
  },
  {
   "cell_type": "code",
   "execution_count": 13,
   "id": "063dc13d",
   "metadata": {},
   "outputs": [],
   "source": [
    "train, valid = train_test_split(data_new, test_size=0.2, random_state=42)\n",
    "train.to_csv(\"train.csv\", index=False)\n",
    "valid.to_csv(\"valid.csv\", index=False)"
   ]
  },
  {
   "cell_type": "code",
   "execution_count": 16,
   "id": "1d29efd9",
   "metadata": {},
   "outputs": [],
   "source": [
    "train.to_csv(\"../data/interim/train.csv\")\n",
    "valid.to_csv(\"../data/interim/valid.csv\")"
   ]
  },
  {
   "cell_type": "code",
   "execution_count": 20,
   "id": "cb521cab",
   "metadata": {},
   "outputs": [],
   "source": [
    "train = pd.read_csv(\"../data/interim/train.csv\")\n",
    "valid = pd.read_csv(\"../data/interim/valid.csv\")"
   ]
  },
  {
   "cell_type": "code",
   "execution_count": 21,
   "id": "577d3c2f",
   "metadata": {},
   "outputs": [
    {
     "data": {
      "text/plain": [
       "(151, 3)"
      ]
     },
     "execution_count": 21,
     "metadata": {},
     "output_type": "execute_result"
    }
   ],
   "source": [
    "valid.shape"
   ]
  },
  {
   "cell_type": "code",
   "execution_count": 22,
   "id": "ed34d16d",
   "metadata": {},
   "outputs": [
    {
     "data": {
      "text/plain": [
       "(604, 3)"
      ]
     },
     "execution_count": 22,
     "metadata": {},
     "output_type": "execute_result"
    }
   ],
   "source": [
    "train.shape"
   ]
  },
  {
   "cell_type": "code",
   "execution_count": 23,
   "id": "3b8b48f4",
   "metadata": {},
   "outputs": [],
   "source": [
    "count_vec = CountVectorizer()\n",
    "tfidf = TfidfTransformer(use_idf=True)"
   ]
  },
  {
   "cell_type": "code",
   "execution_count": 24,
   "id": "4cfedf5a",
   "metadata": {},
   "outputs": [],
   "source": [
    "classifiers = {\n",
    "    'MultinomialNB': MultinomialNB(),\n",
    "    'SGDClassifier': SGDClassifier()\n",
    "}"
   ]
  },
  {
   "cell_type": "code",
   "execution_count": 25,
   "id": "edea5d9a",
   "metadata": {},
   "outputs": [],
   "source": [
    "param_grid = {\n",
    "    'vect__ngram_range': [(1, 1), (1, 2)],\n",
    "    'tfidf__use_idf': (True, False),\n",
    "    'clf__alpha': [1e-2, 1e-3]\n",
    "}"
   ]
  },
  {
   "cell_type": "code",
   "execution_count": 26,
   "id": "52f1c9af",
   "metadata": {},
   "outputs": [],
   "source": [
    "X_valid = valid['Review']\n",
    "y_valid = valid['sentiment']"
   ]
  },
  {
   "cell_type": "code",
   "execution_count": 27,
   "id": "5abd0af6",
   "metadata": {},
   "outputs": [
    {
     "name": "stdout",
     "output_type": "stream",
     "text": [
      "Best parameters for MultinomialNB:  {'clf__alpha': 0.01, 'tfidf__use_idf': True, 'vect__ngram_range': (1, 2)}\n",
      "Best cross-validation score for MultinomialNB:  0.5600529013879209\n",
      "Accuracy on the test set MultinomialNB: 0.543046357615894\n",
      "Average F1-score on the test set MultinomialNB: 0.5071471329241739\n",
      "Classification report for MultinomialNB:\n",
      "              precision    recall  f1-score   support\n",
      "\n",
      "    Negative       0.89      0.24      0.38        33\n",
      "     Neutral       0.44      0.66      0.53        53\n",
      "    Positive       0.63      0.60      0.61        65\n",
      "\n",
      "    accuracy                           0.54       151\n",
      "   macro avg       0.65      0.50      0.51       151\n",
      "weighted avg       0.62      0.54      0.53       151\n",
      "\n",
      "Confusion matrix:\n",
      "          negative   neutral  positive\n",
      "negative  0.242424  0.606061  0.151515\n",
      "neutral   0.000000  0.660377  0.339623\n",
      "positive  0.015385  0.384615  0.600000\n",
      "Best parameters for SGDClassifier:  {'clf__alpha': 0.001, 'tfidf__use_idf': True, 'vect__ngram_range': (1, 2)}\n",
      "Best cross-validation score for SGDClassifier:  0.6334441367701948\n",
      "Accuracy on the test set SGDClassifier: 0.6357615894039735\n",
      "Average F1-score on the test set SGDClassifier: 0.5913747141368625\n",
      "Classification report for SGDClassifier:\n",
      "              precision    recall  f1-score   support\n",
      "\n",
      "    Negative       0.83      0.30      0.44        33\n",
      "     Neutral       0.55      0.68      0.61        53\n",
      "    Positive       0.68      0.77      0.72        65\n",
      "\n",
      "    accuracy                           0.64       151\n",
      "   macro avg       0.69      0.58      0.59       151\n",
      "weighted avg       0.67      0.64      0.62       151\n",
      "\n",
      "Confusion matrix:\n",
      "          negative   neutral  positive\n",
      "negative  0.303030  0.484848  0.212121\n",
      "neutral   0.018868  0.679245  0.301887\n",
      "positive  0.015385  0.215385  0.769231\n"
     ]
    }
   ],
   "source": [
    "for name, clf in classifiers.items():\n",
    "    text_clf = Pipeline([\n",
    "        ('vect', count_vec),\n",
    "        ('tfidf', tfidf),\n",
    "        ('clf', clf),\n",
    "    ])\n",
    "\n",
    "    grid_search = GridSearchCV(\n",
    "        text_clf,\n",
    "        param_grid,\n",
    "        cv=5,\n",
    "        n_jobs=-1,\n",
    "        scoring='f1_macro')\n",
    "\n",
    "    grid_search.fit(train.Review, train.sentiment)\n",
    "\n",
    "    print(f\"Best parameters for {name}: \", grid_search.best_params_)\n",
    "    print(f\"Best cross-validation score for {name}: \", grid_search.best_score_)\n",
    "\n",
    "    y_pred = grid_search.predict(X_valid)\n",
    "    cm = confusion_matrix(y_valid, y_pred, normalize='true')\n",
    "    label_names = ['negative', 'neutral', 'positive']\n",
    "    cm_df = pd.DataFrame(cm, index=label_names, columns=label_names)\n",
    "    # Compute accuracy and F1-score\n",
    "    accuracy = metrics.accuracy_score(y_valid, y_pred)\n",
    "    f1_score = metrics.f1_score(y_valid, y_pred, average='macro')\n",
    "\n",
    "    # Print results\n",
    "    print(f\"Accuracy on the test set {name}: {accuracy}\")\n",
    "    print(f\"Average F1-score on the test set {name}: {f1_score}\")\n",
    "    # print(f\"Confusion matrix for {name}:\")\n",
    "    report = classification_report(\n",
    "        y_valid, y_pred, target_names=[\n",
    "            'Negative', 'Neutral', 'Positive'])\n",
    "    print(f\"Classification report for {name}:\\n{report}\")\n",
    "    print(\"Confusion matrix:\")\n",
    "    print(cm_df)"
   ]
  },
  {
   "cell_type": "code",
   "execution_count": null,
   "id": "18ca5bed",
   "metadata": {},
   "outputs": [],
   "source": []
  }
 ],
 "metadata": {
  "kernelspec": {
   "display_name": "sentiment_classification",
   "language": "python",
   "name": "sentiment_classification"
  },
  "language_info": {
   "codemirror_mode": {
    "name": "ipython",
    "version": 3
   },
   "file_extension": ".py",
   "mimetype": "text/x-python",
   "name": "python",
   "nbconvert_exporter": "python",
   "pygments_lexer": "ipython3",
   "version": "3.9.12"
  }
 },
 "nbformat": 4,
 "nbformat_minor": 5
}
